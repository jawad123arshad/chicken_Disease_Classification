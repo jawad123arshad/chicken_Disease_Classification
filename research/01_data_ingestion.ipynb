{
 "cells": [
  {
   "cell_type": "code",
   "execution_count": 13,
   "metadata": {},
   "outputs": [],
   "source": [
    "import os"
   ]
  },
  {
   "cell_type": "code",
   "execution_count": 14,
   "metadata": {},
   "outputs": [
    {
     "data": {
      "text/plain": [
       "'c:\\\\Users\\\\Jawad Z\\\\Desktop\\\\Chicken_Diesease_Prediction\\\\test\\\\chicken_Disease_Classification'"
      ]
     },
     "execution_count": 14,
     "metadata": {},
     "output_type": "execute_result"
    }
   ],
   "source": [
    "%pwd"
   ]
  },
  {
   "cell_type": "code",
   "execution_count": 15,
   "metadata": {},
   "outputs": [],
   "source": [
    "os.chdir(\"../\")"
   ]
  },
  {
   "cell_type": "code",
   "execution_count": 16,
   "metadata": {},
   "outputs": [
    {
     "data": {
      "text/plain": [
       "'c:\\\\Users\\\\Jawad Z\\\\Desktop\\\\Chicken_Diesease_Prediction\\\\test'"
      ]
     },
     "execution_count": 16,
     "metadata": {},
     "output_type": "execute_result"
    }
   ],
   "source": [
    "%pwd"
   ]
  },
  {
   "cell_type": "code",
   "execution_count": null,
   "metadata": {},
   "outputs": [],
   "source": [
    "# ============================================================\n",
    "# 🧩 Step 4: Entity Definition — Data Ingestion Configuration\n",
    "# ------------------------------------------------------------\n",
    "# This dataclass represents the configuration settings for the\n",
    "# Data Ingestion stage of the pipeline. It defines the paths\n",
    "# and parameters that will be used to download and extract data.\n",
    "# ============================================================\n",
    "\n",
    "from dataclasses import dataclass\n",
    "from pathlib import Path\n",
    "\n",
    "# The `frozen=True` parameter makes the dataclass immutable,\n",
    "# meaning its values cannot be changed after creation.\n",
    "@dataclass(frozen=True)\n",
    "class DataIngestionConfig:\n",
    "    # Directory where all data ingestion artifacts will be stored\n",
    "    root_dir: Path\n",
    "\n",
    "    # URL from which raw data will be downloaded\n",
    "    source_URL: str\n",
    "\n",
    "    # Local path where the downloaded data file will be saved\n",
    "    local_data_file: Path\n",
    "\n",
    "    # Directory where the downloaded file will be extracted\n",
    "    unzip_dir: Path\n"
   ]
  },
  {
   "cell_type": "code",
   "execution_count": 18,
   "metadata": {},
   "outputs": [],
   "source": [
    "from cnnClassifier.constants import *\n",
    "from cnnClassifier.utils.common import read_yaml\n",
    "from cnnClassifier.utils.common import create_directories"
   ]
  },
  {
   "cell_type": "code",
   "execution_count": null,
   "metadata": {},
   "outputs": [],
   "source": [
    "# ============================================================\n",
    "# 🧩 Step 5: Configuration Manager\n",
    "# ------------------------------------------------------------\n",
    "# This component reads configuration files (config.yaml,\n",
    "# params.yaml), creates required directories, and returns\n",
    "# configuration objects (entities) for use in each pipeline stage.\n",
    "# ============================================================\n",
    "\n",
    "from cnnClassifier.utils.common import read_yaml, create_directories\n",
    "from cnnClassifier.entity.config_entity import DataIngestionConfig\n",
    "from cnnClassifier.constants import CONFIG_FILE_PATH, PARAMS_FILE_PATH\n",
    "\n",
    "\n",
    "class ConfigurationManager:\n",
    "    def __init__(\n",
    "        self,\n",
    "        config_filepath=CONFIG_FILE_PATH,\n",
    "        params_filepath=PARAMS_FILE_PATH\n",
    "    ):\n",
    "        # Load configuration and parameters from YAML files\n",
    "        self.config = read_yaml(config_filepath)\n",
    "        self.params = read_yaml(params_filepath)\n",
    "\n",
    "        # Create the root artifacts directory\n",
    "        create_directories([self.config.artifacts_root])\n",
    "\n",
    "    def get_data_ingestion_config(self) -> DataIngestionConfig:\n",
    "        # Extract data ingestion-related config from YAML\n",
    "        config = self.config.data_ingestion\n",
    "\n",
    "        # Ensure the directory for data ingestion artifacts exists\n",
    "        create_directories([config.root_dir])\n",
    "\n",
    "        # Create and return a DataIngestionConfig entity object\n",
    "        data_ingestion_config = DataIngestionConfig(\n",
    "            root_dir=config.root_dir,\n",
    "            source_URL=config.source_URL,\n",
    "            local_data_file=config.local_data_file,\n",
    "            unzip_dir=config.unzip_dir\n",
    "        )\n",
    "\n",
    "        return data_ingestion_config\n"
   ]
  },
  {
   "cell_type": "code",
   "execution_count": 20,
   "metadata": {},
   "outputs": [],
   "source": [
    "import os\n",
    "import urllib.request as request\n",
    "import zipfile\n",
    "from cnnClassifier import logger\n",
    "from cnnClassifier.utils.common import get_size"
   ]
  },
  {
   "cell_type": "code",
   "execution_count": 21,
   "metadata": {},
   "outputs": [],
   "source": [
    "# import os\n",
    "# import shutil\n",
    "# import zipfile\n",
    "# from urllib import request  # For potential URL handling\n",
    "# # ... other imports like logger, Path, get_size, etc.\n",
    "\n",
    "# class DataIngestion:\n",
    "#     def __init__(self, config: DataIngestionConfig):\n",
    "#         self.config = config\n",
    "\n",
    "#     def ingest_data(self):\n",
    "#         source = self.config.source_URL\n",
    "#         target_dir = self.config.unzip_dir\n",
    "#         os.makedirs(target_dir, exist_ok=True)\n",
    "\n",
    "#         if os.path.isdir(source):\n",
    "#             # Copy folder contents directly to target_dir\n",
    "#             for item in os.listdir(source):\n",
    "#                 s = os.path.join(source, item)\n",
    "#                 d = os.path.join(target_dir, item)\n",
    "#                 if os.path.isdir(s):\n",
    "#                     shutil.copytree(s, d, dirs_exist_ok=True)\n",
    "#                 else:\n",
    "#                     shutil.copy2(s, d)\n",
    "#             logger.info(f\"Copied contents from local folder {source} to {target_dir}\")\n",
    "#         elif os.path.isfile(source):\n",
    "#             # Copy file (assuming ZIP) and extract\n",
    "#             local_zip = self.config.local_data_file\n",
    "#             if not os.path.exists(local_zip):\n",
    "#                 shutil.copyfile(source, local_zip)\n",
    "#                 logger.info(f\"Copied local file {source} to {local_zip}\")\n",
    "#             else:\n",
    "#                 logger.info(f\"File already exists: {local_zip}\")\n",
    "            \n",
    "#             # Extract\n",
    "#             with zipfile.ZipFile(local_zip, 'r') as zip_ref:\n",
    "#                 zip_ref.extractall(target_dir)\n",
    "#             logger.info(f\"Extracted ZIP to {target_dir}\")\n",
    "#         else:\n",
    "#             raise FileNotFoundError(f\"Source not found or invalid: {source}\")\n",
    "\n",
    "# # In your main try block, change the calls to:\n",
    "# try:\n",
    "#     config = ConfigurationManager()\n",
    "#     data_ingestion_config = config.get_data_ingestion_config()\n",
    "#     data_ingestion = DataIngestion(config=data_ingestion_config)\n",
    "#     data_ingestion.ingest_data()  # New method that handles both cases\n",
    "# except Exception as e:\n",
    "#     raise e"
   ]
  },
  {
   "cell_type": "code",
   "execution_count": 22,
   "metadata": {},
   "outputs": [],
   "source": [
    "# try:\n",
    "#     config = ConfigurationManager()\n",
    "#     data_ingestion_config = config.get_data_ingestion_config()\n",
    "#     data_ingestion = DataIngestion(config=data_ingestion_config)\n",
    "#     data_ingestion.download_file()\n",
    "#     data_ingestion.extract_zip_file()\n",
    "# except Exception as e:\n",
    "#     raise e"
   ]
  },
  {
   "cell_type": "code",
   "execution_count": null,
   "metadata": {},
   "outputs": [],
   "source": [
    "# ============================================================\n",
    "# 🧩 Step 6: Component — Data Ingestion\n",
    "# ------------------------------------------------------------\n",
    "# This component handles the actual logic for downloading and\n",
    "# extracting the dataset. It uses the configuration provided by\n",
    "# the ConfigurationManager (via the DataIngestionConfig entity).\n",
    "# ============================================================\n",
    "\n",
    "import os\n",
    "import zipfile\n",
    "from pathlib import Path\n",
    "from urllib import request\n",
    "from cnnClassifier import logger\n",
    "from cnnClassifier.utils.common import get_size\n",
    "from cnnClassifier.entity.config_entity import DataIngestionConfig\n",
    "\n",
    "\n",
    "class DataIngestion:\n",
    "    def __init__(self, config: DataIngestionConfig):\n",
    "        # Store the configuration object (entity)\n",
    "        self.config = config\n",
    "\n",
    "    def download_file(self):\n",
    "        \"\"\"\n",
    "        Downloads the dataset from the provided source URL if it\n",
    "        doesn't already exist in the local directory.\n",
    "        \"\"\"\n",
    "        if not os.path.exists(self.config.local_data_file):\n",
    "            # Download the dataset\n",
    "            filename, headers = request.urlretrieve(\n",
    "                url=self.config.source_URL,\n",
    "                filename=self.config.local_data_file\n",
    "            )\n",
    "            logger.info(f\"{filename} downloaded successfully!\\nInfo: {headers}\")\n",
    "        else:\n",
    "            # Log file existence and its size\n",
    "            logger.info(\n",
    "                f\"File already exists. Size: {get_size(Path(self.config.local_data_file))}\"\n",
    "            )\n",
    "\n",
    "    def extract_zip_file(self):\n",
    "        \"\"\"\n",
    "        Extracts the downloaded zip file into the target directory.\n",
    "        \"\"\"\n",
    "        unzip_path = self.config.unzip_dir\n",
    "        os.makedirs(unzip_path, exist_ok=True)\n",
    "\n",
    "        # Extract the contents of the zip file\n",
    "        with zipfile.ZipFile(self.config.local_data_file, 'r') as zip_ref:\n",
    "            zip_ref.extractall(unzip_path)\n",
    "        logger.info(f\"Files extracted successfully to {unzip_path}\")\n"
   ]
  },
  {
   "cell_type": "code",
   "execution_count": null,
   "metadata": {},
   "outputs": [
    {
     "name": "stdout",
     "output_type": "stream",
     "text": [
      "[2025-10-21 21:33:08,835: INFO: common: YAML file: config\\config.yaml loaded successfully]\n",
      "[2025-10-21 21:33:08,839: INFO: common: YAML file: params.yaml loaded successfully]\n",
      "[2025-10-21 21:33:08,841: INFO: common: Created directory at: artifacts]\n",
      "[2025-10-21 21:33:08,843: INFO: common: Created directory at: artifacts/data_ingestion]\n",
      "[2025-10-21 21:33:19,317: INFO: 4037744573: artifacts/data_ingestion/data.zip download! with following info: \n",
      "Content-type: application/x-zip-compressed\n",
      "Content-length: 1719723149\n",
      "Last-modified: Tue, 30 Sep 2025 15:23:56 GMT\n",
      "\n",
      "]\n"
     ]
    }
   ],
   "source": [
    "# ============================================================\n",
    "# 🧩 Step 7: Pipeline — Data Ingestion Stage\n",
    "# ------------------------------------------------------------\n",
    "# This pipeline script orchestrates the Data Ingestion process.\n",
    "# It connects the ConfigurationManager (to get config data)\n",
    "# with the DataIngestion component (that performs the actions).\n",
    "# ============================================================\n",
    "\n",
    "from cnnClassifier.config.configuration import ConfigurationManager\n",
    "from cnnClassifier.components.data_ingestion import DataIngestion\n",
    "from cnnClassifier import logger\n",
    "\n",
    "try:\n",
    "    # Initialize the configuration manager to read YAML configs\n",
    "    config = ConfigurationManager()\n",
    "\n",
    "    # Retrieve the Data Ingestion configuration entity\n",
    "    data_ingestion_config = config.get_data_ingestion_config()\n",
    "\n",
    "    # Create the DataIngestion component with the retrieved config\n",
    "    data_ingestion = DataIngestion(config=data_ingestion_config)\n",
    "\n",
    "    # Execute the data ingestion steps\n",
    "    data_ingestion.download_file()\n",
    "    data_ingestion.extract_zip_file()\n",
    "\n",
    "    logger.info(\"Data Ingestion stage completed successfully!\")\n",
    "\n",
    "except Exception as e:\n",
    "    logger.exception(e)\n",
    "    raise e\n"
   ]
  },
  {
   "cell_type": "code",
   "execution_count": null,
   "metadata": {},
   "outputs": [],
   "source": []
  },
  {
   "cell_type": "code",
   "execution_count": null,
   "metadata": {},
   "outputs": [],
   "source": []
  },
  {
   "cell_type": "code",
   "execution_count": null,
   "metadata": {},
   "outputs": [],
   "source": []
  }
 ],
 "metadata": {
  "kernelspec": {
   "display_name": "chicken",
   "language": "python",
   "name": "python3"
  },
  "language_info": {
   "codemirror_mode": {
    "name": "ipython",
    "version": 3
   },
   "file_extension": ".py",
   "mimetype": "text/x-python",
   "name": "python",
   "nbconvert_exporter": "python",
   "pygments_lexer": "ipython3",
   "version": "3.13.5"
  },
  "orig_nbformat": 4
 },
 "nbformat": 4,
 "nbformat_minor": 2
}
